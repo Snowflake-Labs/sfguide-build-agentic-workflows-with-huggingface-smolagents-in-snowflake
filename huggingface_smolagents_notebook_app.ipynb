{
 "cells": [
  {
   "cell_type": "markdown",
   "id": "071bc58a-fcd6-4bf4-bd4e-12766cdf7798",
   "metadata": {
    "collapsed": false,
    "name": "README",
    "resultHeight": 304
   },
   "source": [
    "# Build Agentic Workflows with HuggingFace smolagents in Snowflake\n",
    "\n",
    "## Overview\n",
    "\n",
    "This guide outlines the process for creating agentic workflows in Snowflake Notebook on Container Runtime using [smolagents from Hugging Face](https://github.com/huggingface/smolagents). These agents are capable of writing Python code to call tools and orchestrate other agents. In this guide, we will also see how you can create a custom tool in **smolagent** that uses Snowflake Cortex.\n",
    "\n",
    "## Step-By-Step Guide\n",
    "\n",
    "For prerequisites and environment setup, please refer to the [QuickStart Guide](https://quickstarts.snowflake.com/guide/build-agentic-workflows-with-huggingface-smolagents-in-snowflake/index.html)."
   ]
  },
  {
   "cell_type": "code",
   "execution_count": null,
   "id": "3775908f-ca36-4846-8f38-5adca39217f2",
   "metadata": {
    "collapsed": false,
    "language": "python",
    "name": "Install_smolagents",
    "resultHeight": 2035
   },
   "outputs": [],
   "source": [
    "# https://github.com/huggingface/smolagents\n",
    "\n",
    "!pip install smolagents"
   ]
  },
  {
   "cell_type": "code",
   "execution_count": null,
   "id": "1afe3431-a45e-46fa-a3d2-de84ecd7611c",
   "metadata": {
    "collapsed": false,
    "language": "python",
    "name": "Initialize",
    "resultHeight": 0
   },
   "outputs": [],
   "source": [
    "import streamlit as st\n",
    "import pandas as pd\n",
    "from smolagents import CodeAgent, DuckDuckGoSearchTool, HfApiModel, tool, LiteLLMModel, ToolCollection, Tool, ToolCallingAgent\n",
    "\n",
    "# TODO: Replace hf_ZkEXVwIXXXXXXXXXXXXXXX with your Hugging Face token\n",
    "model = HfApiModel(token=\"hf_ZkEXVwIXXXXXXXXXXXXXXX\")\n",
    "\n",
    "web_agent = ToolCallingAgent(\n",
    "    tools=[DuckDuckGoSearchTool()],\n",
    "    model=model,\n",
    "    max_steps=10,\n",
    "    name='web_search',\n",
    "    description=\"Runs web searches for you. Give it your query as an argument.\",\n",
    ")\n",
    "\n",
    "code_agent = CodeAgent(\n",
    "    tools=[],\n",
    "    model=model,\n",
    "    managed_agents=[web_agent],\n",
    "    additional_authorized_imports=['requests','json','pandas','matplotlib','xml.etree.ElementTree','bs4'],\n",
    ")"
   ]
  },
  {
   "cell_type": "code",
   "execution_count": null,
   "id": "bd06901e-63b6-42d8-ae57-2c5a6b026f27",
   "metadata": {
    "codeCollapsed": false,
    "collapsed": false,
    "language": "python",
    "name": "Web_Search_Snowflake_Summit",
    "resultHeight": 2259
   },
   "outputs": [],
   "source": [
    "answer = 'N/A'\n",
    "try:\n",
    "    answer = code_agent.run(\"\"\"\n",
    "        Top 5 announcements at Snowflake Summit 2024 in JSON format. \n",
    "        Only return the JSON formatted output as the response and nothing else.\n",
    "    \"\"\")\n",
    "    parsed_answer = json.loads(answer)\n",
    "    st.json(parsed_answer)\n",
    "except:\n",
    "    st.write(answer)"
   ]
  },
  {
   "cell_type": "code",
   "execution_count": null,
   "id": "49cbd9e8-019a-4f04-bfe8-300596ad003c",
   "metadata": {
    "collapsed": false,
    "language": "python",
    "name": "Web_Search_Snowflake_Blogs",
    "resultHeight": 1621
   },
   "outputs": [],
   "source": [
    "answer = code_agent.run(\"\"\"\n",
    "        Top 5 blog articles on AI. Include blog title and link to the article. \n",
    "        Return the response in a Pandas dataframe and nothing else.\n",
    "    \"\"\")\n",
    "try:\n",
    "    st.dataframe(pd.DataFrame(answer))\n",
    "except:\n",
    "    st.write(answer)"
   ]
  },
  {
   "cell_type": "code",
   "execution_count": null,
   "id": "f4e42b91-3726-4217-aa8a-63d5ebfef27c",
   "metadata": {
    "codeCollapsed": false,
    "collapsed": false,
    "language": "python",
    "name": "Snowflake_Cortex_Tool",
    "resultHeight": 7100
   },
   "outputs": [],
   "source": [
    "class HFModelSnowflakeCortex(Tool):\n",
    "    name=\"snowflake_cortex\"\n",
    "    description=\"\"\"\n",
    "    This tool summarizes text using Snowflake Cortex AI.\n",
    "    \"\"\"\n",
    "    inputs = {\n",
    "        \"txt\": {\n",
    "            \"type\": \"string\",\n",
    "            \"description\": \"Text to analyze\"\n",
    "        }\n",
    "    }\n",
    "    output_type = \"any\"\n",
    "\n",
    "    def __init__(self, cortex_llm):\n",
    "        super().__init__(self)\n",
    "        if cortex_llm is None:\n",
    "            raise ValueError(\"\"\"\n",
    "                Missing Cortex LLM. Make sure you pass a valid LLM when creating an instance of HFModelSnowflakeCortex. \n",
    "                See https://docs.snowflake.com/en/user-guide/snowflake-cortex/llm-functions?_fsi=THrZMtDg,%20THrZMtDg&_fsi=THrZMtDg,%20THrZMtDg#availability.\n",
    "            \"\"\") \n",
    "            \n",
    "        self.cortex_llm = cortex_llm\n",
    "        \n",
    "    def forward(self,txt:str):\n",
    "        import snowflake\n",
    "        from snowflake.cortex import Complete\n",
    "        response = {}\n",
    "        prompt = f\"\"\"\n",
    "                Summarize the text enclosed in ### in less than 200 words in JSON format and list out up to 3 highlights in JSON format ### {txt} ###. \n",
    "                Return only the JSON formatted output and nothing else.\n",
    "        \"\"\"\n",
    "        response['summary'] = snowflake.cortex.Complete(self.cortex_llm,prompt)\n",
    "        return response"
   ]
  },
  {
   "cell_type": "code",
   "execution_count": null,
   "id": "41129284-453d-45ef-8049-3b74db76f693",
   "metadata": {
    "collapsed": false,
    "language": "python",
    "name": "Streamlit_Application"
   },
   "outputs": [],
   "source": [
    "st.subheader(\"Streamlit Application\")\n",
    "\n",
    "text_to_summarize = \"\"\"Snowflake ML is an integrated set of capabilities for end-to-end machine learning in a single platform on top of your governed data.\n",
    "\n",
    "For out-of-the-box ML workflows in SQL, the ready-to-use ML Functions can help shorten development time and democratize ML across your organization. \n",
    "These functions let you train models for business use cases such as forecasting and anomaly detection without writing any code.\n",
    "\n",
    "For custom ML workflows in Python, data scientists and ML engineers can easily and securely develop and productionize scalable features and models without \n",
    "any data movement, silos, or governance tradeoffs. The snowflake-ml-python library provides APIs for developing and deploying your Snowflake ML pipelines.\n",
    "\n",
    "To build and operationalize models, data scientists and ML engineers can leverage a suite of Snowflake ML features. \n",
    "For model development, Snowflake ML Modeling APIs offer scalable data loading, feature engineering, and model training with distributed processing using \n",
    "CPUs or GPUs. For ML Operations (ML Ops), Snowflake ML includes the Feature Store and Model Registry for centralized management of features and models in production.\n",
    "\n",
    "You can use Python APIs from the Snowpark ML library in Snowflake Notebooks, Snowsight worksheets. or your local Python IDE of choice.\"\"\"\n",
    "\n",
    "with st.container():\n",
    "    with st.expander(\"Enter text and select LLM\", expanded=True):\n",
    "        \n",
    "        with st.container():\n",
    "            left_col,right_col = st.columns(2)\n",
    "            with left_col:\n",
    "                text_to_summarize = st.text_area('Text',text_to_summarize, height=550)\n",
    "            with right_col:\n",
    "                selected_llm = st.selectbox('Select LLM',('claude-3-5-sonnet','snowflake-llama-3.1-405b','llama3.1-405b'))\n",
    "\n",
    "with st.container():\n",
    "    _,mid_col,_ = st.columns([.4,.3,.3])\n",
    "    with mid_col:\n",
    "        generate_template = st.button('Generate summary and highlights ⚡',type=\"primary\")\n",
    "\n",
    "with st.container():\n",
    "    if generate_template:\n",
    "        with st.status(\"In progress...\") as status:\n",
    "            try:\n",
    "                cortex_tool = HFModelSnowflakeCortex(selected_llm) \n",
    "                agent = CodeAgent(\n",
    "                    tools=[cortex_tool],\n",
    "                    model=model\n",
    "                )\n",
    "                answer = agent.run(text_to_summarize)\n",
    "                parsed_answer = json.loads(answer)\n",
    "                st.divider()\n",
    "                st.subheader(f\"Selected LLM: {selected_llm}\")\n",
    "                st.write(\"Final answer\")\n",
    "                st.json(parsed_answer)\n",
    "            except:\n",
    "                st.divider()\n",
    "                st.subheader(f\"Selected LLM: {selected_llm}\")\n",
    "                st.write(\"Final answer\")\n",
    "                st.write(answer)\n",
    "            finally:\n",
    "                status.update(label=\"Done!\", state=\"complete\", expanded=True)"
   ]
  }
 ],
 "metadata": {
  "kernelspec": {
   "display_name": "Streamlit Notebook",
   "name": "streamlit"
  },
  "lastEditStatus": {
   "authorEmail": "dash.desai@snowflake.com",
   "authorId": "94022846931",
   "authorName": "DASH",
   "lastEditTime": 1739210628330,
   "notebookId": "j6tgiwm3sowce4xmgxm3",
   "sessionId": "a57765bb-aa3e-493d-9200-d5d62799dbd7"
  }
 },
 "nbformat": 4,
 "nbformat_minor": 5
}
