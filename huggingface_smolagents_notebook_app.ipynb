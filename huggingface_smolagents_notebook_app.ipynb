{
 "metadata": {
  "kernelspec": {
   "display_name": "Streamlit Notebook",
   "name": "streamlit"
  },
  "lastEditStatus": {
   "notebookId": "j6tgiwm3sowce4xmgxm3",
   "authorId": "94022846931",
   "authorName": "DASH",
   "authorEmail": "dash.desai@snowflake.com",
   "sessionId": "feb3fc47-3e3d-4d66-8d6a-30109b61ec85",
   "lastEditTime": 1737484871149
  }
 },
 "nbformat_minor": 5,
 "nbformat": 4,
 "cells": [
  {
   "cell_type": "code",
   "id": "3775908f-ca36-4846-8f38-5adca39217f2",
   "metadata": {
    "language": "python",
    "name": "Install_smolagents",
    "collapsed": false,
    "resultHeight": 2030
   },
   "source": "# https://github.com/huggingface/smolagents\n\n!pip install smolagents",
   "execution_count": null,
   "outputs": []
  },
  {
   "cell_type": "code",
   "id": "1afe3431-a45e-46fa-a3d2-de84ecd7611c",
   "metadata": {
    "language": "python",
    "name": "Initialize",
    "collapsed": false,
    "resultHeight": 0
   },
   "outputs": [],
   "source": "import streamlit as st\nimport pandas as pd\nfrom smolagents import CodeAgent, DuckDuckGoSearchTool, HfApiModel, tool, LiteLLMModel, ToolCollection, Tool, ToolCallingAgent, ManagedAgent\n\n# TODO: Replace hf_ZkEXVwIXXXXXXXXXXXXXXX with your Hugging Face token\nmodel = HfApiModel(token=\"hf_ZkEXVwIXXXXXXXXXXXXXXX\")\n\nweb_agent = ToolCallingAgent(\n    tools=[DuckDuckGoSearchTool()],\n    model=model,\n    max_steps=10,\n)\n\nmanaged_web_agent = ManagedAgent(\n    agent=web_agent,\n    name=\"search\",\n    description=\"Runs web searches for you. Give it your query as an argument.\",\n)\n\nmanager_agent = CodeAgent(\n    tools=[],\n    model=model,\n    managed_agents=[managed_web_agent],\n    additional_authorized_imports=['requests','json','pandas','matplotlib','xml.etree.ElementTree'],\n)",
   "execution_count": null
  },
  {
   "cell_type": "code",
   "id": "bd06901e-63b6-42d8-ae57-2c5a6b026f27",
   "metadata": {
    "language": "python",
    "name": "Web_Search_Snowflake_Summit",
    "collapsed": false,
    "resultHeight": 7088,
    "codeCollapsed": false
   },
   "outputs": [],
   "source": "answer = 'N/A'\ntry:\n    answer = manager_agent.run(\"Top 5 announcements at Snowflake Summit 2024 in JSON format. Only return the JSON formatted output as the response and nothing else.\")\n    st.json(answer)\nexcept:\n    st.write(answer)",
   "execution_count": null
  },
  {
   "cell_type": "code",
   "id": "49cbd9e8-019a-4f04-bfe8-300596ad003c",
   "metadata": {
    "language": "python",
    "name": "Web_Search_Snowflake_Blogs",
    "collapsed": false,
    "resultHeight": 1640
   },
   "outputs": [],
   "source": "answer = manager_agent.run(\"Top 5 Cortex blogs from Snowflake Medium publication. Only return the reaponse  in a dataframe format as the response and nothing else.\")\ntry:\n    st.dataframe(pd.DataFrame(answer))\nexcept:\n    st.write(answer)",
   "execution_count": null
  },
  {
   "cell_type": "code",
   "id": "f4e42b91-3726-4217-aa8a-63d5ebfef27c",
   "metadata": {
    "language": "python",
    "name": "Snowflake_Cortex_Tool",
    "codeCollapsed": false,
    "collapsed": false,
    "resultHeight": 2384
   },
   "outputs": [],
   "source": "class HFModelSnowflakeCortex(Tool):\n    name=\"snowflake_cortex\"\n    description=\"\"\"\n    This tool summarizes text using Snowflake Cortex AI.\n    \"\"\"\n    inputs = {\n        \"txt\": {\n            \"type\": \"string\",\n            \"description\": \"Text to analyze\"\n        }\n    }\n    output_type = \"any\"\n\n    def forward(self,txt:str):\n        import snowflake\n        from snowflake.cortex import Complete\n        response = {}\n        prompt = f\"\"\"\n                Summarize the text enclosed in ### in less than 200 words in JSON format and list out up to 3 highlights in JSON format ### {txt} ###. \n                Return only the JSON formatted output and nothing else.\n        \"\"\"\n        response['summary'] = snowflake.cortex.Complete('claude-3-5-sonnet',prompt)\n        return response\n\ncortex_tool = HFModelSnowflakeCortex()\n\nagent = CodeAgent(\n    tools=[cortex_tool],\n    model=model\n)\n\nanswer= 'N/A'\ntry:\n    answer = agent.run(\n    \"\"\"\n        Snowflake ML is an integrated set of capabilities for end-to-end machine learning in a single platform on top of your governed data.\n        \n        For out-of-the-box ML workflows in SQL, the ready-to-use ML Functions can help shorten development time and democratize ML across your organization. \n        These functions let you train models for business use cases such as forecasting and anomaly detection without writing any code.\n        \n        For custom ML workflows in Python, data scientists and ML engineers can easily and securely develop and productionize scalable features and models without \n        any data movement, silos, or governance tradeoffs. The snowflake-ml-python library provides APIs for developing and deploying your Snowflake ML pipelines.\n        \n        To build and operationalize models, data scientists and ML engineers can leverage a suite of Snowflake ML features. \n        For model development, Snowflake ML Modeling APIs offer scalable data loading, feature engineering, and model training with distributed processing using \n        CPUs or GPUs. For ML Operations (ML Ops), Snowflake ML includes the Feature Store and Model Registry for centralized management of features and models in production.\n        \n        You can use Python APIs from the Snowpark ML library in Snowflake Notebooks, Snowsight worksheets. or your local Python IDE of choice.\n    \"\"\")\n    st.json(answer)\nexcept:\n    st.write(answer)",
   "execution_count": null
  }
 ]
}