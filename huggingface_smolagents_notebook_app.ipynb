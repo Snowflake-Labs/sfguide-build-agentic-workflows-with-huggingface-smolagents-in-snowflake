{
 "cells": [
  {
   "cell_type": "markdown",
   "id": "071bc58a-fcd6-4bf4-bd4e-12766cdf7798",
   "metadata": {
    "collapsed": false,
    "name": "README",
    "resultHeight": 304
   },
   "source": [
    "# Build Agentic Workflows with Hugging Face Smolagents in Snowflake\n",
    "\n",
    "## Overview\n",
    "\n",
    "This guide outlines the process for creating agentic workflows in Snowflake Notebook on Container Runtime using [Smolagents from Hugging Face](https://github.com/huggingface/smolagents). These agents are capable of writing Python code to call tools and orchestrate other agents. In this guide, we will also see how you can create a custom tool in **Smolagent** that uses Snowflake Cortex.\n",
    "\n",
    "## Step-By-Step Guide\n",
    "\n",
    "For prerequisites and environment setup, please refer to the [QuickStart Guide](https://quickstarts.snowflake.com/guide/build-agentic-workflows-with-huggingface-smolagents-in-snowflake/index.html)."
   ]
  },
  {
   "cell_type": "code",
   "execution_count": null,
   "id": "3775908f-ca36-4846-8f38-5adca39217f2",
   "metadata": {
    "collapsed": false,
    "language": "python",
    "name": "Install_Smolagents",
    "resultHeight": 2035
   },
   "outputs": [],
   "source": [
    "# https://github.com/huggingface/smolagents\n",
    "\n",
    "!pip install smolagents"
   ]
  },
  {
   "cell_type": "code",
   "execution_count": null,
   "id": "1afe3431-a45e-46fa-a3d2-de84ecd7611c",
   "metadata": {
    "collapsed": false,
    "language": "python",
    "name": "Initialize",
    "resultHeight": 0
   },
   "outputs": [],
   "source": [
    "import streamlit as st\n",
    "import pandas as pd\n",
    "from smolagents import CodeAgent, DuckDuckGoSearchTool, HfApiModel, tool, LiteLLMModel, ToolCollection, Tool, ToolCallingAgent\n",
    "import requests\n",
    "from bs4 import BeautifulSoup\n",
    "\n",
    "# TODO: Replace hf_ZkEXVwIXXXXXXXXXXXXXXX with your Hugging Face token\n",
    "model = HfApiModel(token=\"hf_ZkEXVwIXXXXXXXXXXXXXXX\", provider='hf-inference')\n",
    "\n",
    "web_agent = ToolCallingAgent(\n",
    "    tools=[DuckDuckGoSearchTool()],\n",
    "    model=model,\n",
    "    max_steps=10,\n",
    "    name='web_search',\n",
    "    description=\"Runs web searches for you. Give it your query as an argument.\",\n",
    ")\n",
    "\n",
    "code_agent = CodeAgent(\n",
    "    tools=[],\n",
    "    model=model,\n",
    "    managed_agents=[web_agent],\n",
    "    additional_authorized_imports=['requests','json','pandas','matplotlib','xml.etree.ElementTree','bs4'],\n",
    ")"
   ]
  },
  {
   "cell_type": "code",
   "execution_count": null,
   "id": "bd06901e-63b6-42d8-ae57-2c5a6b026f27",
   "metadata": {
    "codeCollapsed": false,
    "collapsed": false,
    "language": "python",
    "name": "Web_Search_Snowflake_Summit",
    "resultHeight": 2259
   },
   "outputs": [],
   "source": [
    "answer = 'N/A'\n",
    "try:\n",
    "    answer = code_agent.run(\"\"\"\n",
    "        Top 5 announcements at Snowflake Summit 2024 in JSON format. \n",
    "        Only return the JSON formatted output as the response and nothing else.\n",
    "    \"\"\")\n",
    "    parsed_answer = json.loads(answer)\n",
    "    st.json(parsed_answer)\n",
    "except:\n",
    "    st.write(answer)"
   ]
  },
  {
   "cell_type": "code",
   "execution_count": null,
   "id": "49cbd9e8-019a-4f04-bfe8-300596ad003c",
   "metadata": {
    "collapsed": false,
    "language": "python",
    "name": "Web_Search_AI_Blogs",
    "resultHeight": 1621
   },
   "outputs": [],
   "source": [
    "answer = code_agent.run(\"\"\"\n",
    "        Top 5 blog articles on AI. Include blog title and link to the article. \n",
    "        Return the response in a Pandas dataframe and nothing else.\n",
    "    \"\"\")\n",
    "try:\n",
    "    st.dataframe(pd.DataFrame(answer))\n",
    "except:\n",
    "    st.write(answer)"
   ]
  },
  {
   "cell_type": "code",
   "execution_count": null,
   "id": "5906ad19-f601-4e29-a159-c45c69d0d32f",
   "metadata": {
    "collapsed": false,
    "language": "python",
    "name": "Snowflake_Cortex_Tool"
   },
   "outputs": [],
   "source": [
    "@tool\n",
    "def get_dzone_refcards() -> str:\n",
    "    \"\"\"\n",
    "    This tool returns a list of popular DZone Refcards.\n",
    "    \"\"\"\n",
    "    try:\n",
    "      url = \"https://dzone.com/refcardz?sort=popular\"\n",
    "      response = requests.get(url)\n",
    "      response.raise_for_status()  # Raise an exception for bad status codes (4xx or 5xx)\n",
    "      soup = BeautifulSoup(response.content, \"html.parser\")\n",
    "      refcard_containers = soup.find_all('div', class_='pin')\n",
    "      refcard_links = []\n",
    "      for refcard_container in refcard_containers:\n",
    "          refcard_subtitle = refcard_container.find('div', class_='asset-subtitle')\n",
    "          refcard_link = refcard_subtitle.find('a')['href']\n",
    "          refcard_links.append(refcard_link)\n",
    "    except requests.exceptions.RequestException as e:\n",
    "      print(f\"Error occurred while fetching the HTML: {e}\")\n",
    "        \n",
    "    return refcard_links\n",
    "\n",
    "@tool\n",
    "def read_dzone_refcards(link: str) -> str:\n",
    "    \"\"\"\n",
    "    This tool reads a DZone Refcard and returns the HTML text.\n",
    "    Args:\n",
    "        link: Link of the RefCard to read.\n",
    "    \"\"\"\n",
    "    refcard_text = \"\"\n",
    "    try:\n",
    "      refcard_url = f\"https://dzone.com/{link}\"\n",
    "      response = requests.get(refcard_url)\n",
    "      response.raise_for_status()  # Raise an exception for bad status codes (4xx or 5xx)\n",
    "      refcard_text = BeautifulSoup(response.content, \"html.parser\").text\n",
    "    except requests.exceptions.RequestException as e:\n",
    "      print(f\"Error occurred while fetching the HTML: {e}\")\n",
    "        \n",
    "    return refcard_text\n",
    "\n",
    "@tool\n",
    "def summarize_article(article_text: str) -> any:\n",
    "    \"\"\"\n",
    "    This tool summarizes article text using Snowflake Cortex AI.\n",
    "    Args:\n",
    "        article_text: Text to summarize.\n",
    "    \"\"\"\n",
    "    import snowflake\n",
    "    from snowflake.cortex import Complete\n",
    "    summary = \"\"\n",
    "    try:\n",
    "        prompt = f\"\"\"\n",
    "                Summarize the text enclosed in ### in less than 500 words: ### {article_text} ###.\n",
    "                Produce JSON output that includes article title, article url, article summary, and 3 highlights from the article.\n",
    "        \"\"\"\n",
    "        summary = snowflake.cortex.Complete('claude-3-5-sonnet',prompt)\n",
    "    except Exception as e:\n",
    "      print(f\"Error occurred: {e}\")\n",
    "        \n",
    "    return summary"
   ]
  },
  {
   "cell_type": "code",
   "execution_count": null,
   "id": "51580122-4644-48c9-af08-e2c81bebb9ff",
   "metadata": {
    "codeCollapsed": false,
    "collapsed": false,
    "language": "python",
    "name": "DZone_Refcard_Summaries"
   },
   "outputs": [],
   "source": [
    "agent = CodeAgent(tools=[get_dzone_refcards,\n",
    "                         read_dzone_refcards,\n",
    "                         summarize_article,],\n",
    "                  model=model,\n",
    "                  max_steps=20,\n",
    "                  add_base_tools=True)\n",
    "try:\n",
    "    st.write(agent.run(\"Generate a list of popular DZone RefCard summaries by reading them.\",))\n",
    "except Exception as e:\n",
    "    print(f\"Error occurred: {e}\")"
   ]
  }
 ],
 "metadata": {
  "kernelspec": {
   "display_name": "Streamlit Notebook",
   "name": "streamlit"
  },
  "lastEditStatus": {
   "authorEmail": "dash.desai@snowflake.com",
   "authorId": "94022846931",
   "authorName": "DASH",
   "lastEditTime": 1739731835535,
   "notebookId": "j6tgiwm3sowce4xmgxm3",
   "sessionId": "f7beea68-7af5-4849-afe2-6fbd1d050458"
  }
 },
 "nbformat": 4,
 "nbformat_minor": 5
}
